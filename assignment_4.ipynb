{
 "cells": [
  {
   "cell_type": "code",
   "execution_count": 1,
   "metadata": {},
   "outputs": [],
   "source": [
    "import numpy as np\n",
    "import scipy.stats as stats"
   ]
  },
  {
   "cell_type": "code",
   "execution_count": 2,
   "metadata": {},
   "outputs": [],
   "source": [
    "# 1. Bayesian Inference\n",
    "def bayesian_inference(prior_B, prob_A_given_B, prob_A):\n",
    "    \"\"\"\n",
    "    Perform Bayesian inference.\n",
    "    P(B|A) = (P(A|B) * P(B)) / P(A)\n",
    "    \"\"\"\n",
    "    posterior_B_given_A = (prob_A_given_B * prior_B) / prob_A\n",
    "    return posterior_B_given_A"
   ]
  },
  {
   "cell_type": "code",
   "execution_count": 3,
   "metadata": {},
   "outputs": [],
   "source": [
    "# 2. Eigen Decomposition\n",
    "def compute_eigen(matrix):\n",
    "    values, vectors = np.linalg.eig(matrix)\n",
    "    return values, vectors"
   ]
  },
  {
   "cell_type": "code",
   "execution_count": 4,
   "metadata": {},
   "outputs": [],
   "source": [
    "# 3. Determinant and Inverse of a 4x4 Matrix\n",
    "def calculate_determinant(matrix):\n",
    "    \"\"\"\n",
    "    Compute the determinant of a 4x4 matrix.\n",
    "    \"\"\"\n",
    "    det = np.linalg.det(matrix)\n",
    "    return det"
   ]
  },
  {
   "cell_type": "code",
   "execution_count": 5,
   "metadata": {},
   "outputs": [],
   "source": [
    "def calculate_inverse(matrix):\n",
    "    \"\"\"\n",
    "    Compute the inverse of a 4x4 matrix if it exists.\n",
    "    \"\"\"\n",
    "    det = calculate_determinant(matrix)\n",
    "    if det == 0:\n",
    "        return None  # The matrix is singular and cannot be inverted.\n",
    "    inverse = np.linalg.inv(matrix)\n",
    "    return inverse"
   ]
  },
  {
   "cell_type": "code",
   "execution_count": 6,
   "metadata": {},
   "outputs": [],
   "source": [
    "# 4. Normal Distribution Characteristics\n",
    "def describe_normal_distribution():\n",
    "    \"\"\"\n",
    "    Outline characteristics of the Normal distribution.\n",
    "    \"\"\"\n",
    "    characteristics = {\n",
    "        \"Mean (μ)\": \"Central point of the distribution.\",\n",
    "        \"Standard Deviation (σ)\": \"Indicator of distribution spread.\",\n",
    "        \"Symmetry\": \"Distribution is symmetric about the mean.\",\n",
    "        \"68-95-99.7 Rule\": \"Describes the percentage of data within 1σ, 2σ, and 3σ of the mean.\"\n",
    "    }\n",
    "    return characteristics"
   ]
  },
  {
   "cell_type": "code",
   "execution_count": 7,
   "metadata": {},
   "outputs": [],
   "source": [
    "def calculate_probability(mean, std_dev, value):\n",
    "    \"\"\"\n",
    "    Compute the probability of a value within a normal distribution.\n",
    "    \"\"\"\n",
    "    probability = stats.norm.cdf(value, loc=mean, scale=std_dev)\n",
    "    return probability"
   ]
  },
  {
   "cell_type": "code",
   "execution_count": 8,
   "metadata": {},
   "outputs": [
    {
     "name": "stdout",
     "output_type": "stream",
     "text": [
      "Posterior Probability: 0.1500\n"
     ]
    }
   ],
   "source": [
    "# Bayesian Inference\n",
    "prior_B = 0.03  # Prior probability of event B\n",
    "prob_A_given_B = 0.75  # Probability of event A given B\n",
    "prob_A = 0.15  # Probability of event A\n",
    "posterior = bayesian_inference(prior_B, prob_A_given_B, prob_A)\n",
    "print(f\"Posterior Probability: {posterior:.4f}\")"
   ]
  },
  {
   "cell_type": "code",
   "execution_count": 9,
   "metadata": {},
   "outputs": [
    {
     "name": "stdout",
     "output_type": "stream",
     "text": [
      "Eigenvalues: [ 6.00000000e+00  4.00000000e+00 -2.00000000e+00 -5.33636906e-16]\n",
      "Eigenvectors: [[-0.5 -0.5 -0.5 -0.5]\n",
      " [-0.5  0.5 -0.5  0.5]\n",
      " [-0.5  0.5  0.5 -0.5]\n",
      " [-0.5 -0.5  0.5  0.5]]\n"
     ]
    }
   ],
   "source": [
    "# Eigen Decomposition\n",
    "matrix = np.array([[2, 0, 1, 3], [0, 2, 3, 1], [1, 3, 2, 0], [3, 1, 0, 2]])\n",
    "values, vectors = compute_eigen(matrix)\n",
    "print(f\"Eigenvalues: {values}\")\n",
    "print(f\"Eigenvectors: {vectors}\")"
   ]
  },
  {
   "cell_type": "code",
   "execution_count": 10,
   "metadata": {},
   "outputs": [
    {
     "name": "stdout",
     "output_type": "stream",
     "text": [
      "Determinant: 0.0000\n",
      "The matrix is singular and cannot be inverted.\n"
     ]
    }
   ],
   "source": [
    "# Determinant and Inverse of a 4x4 Matrix\n",
    "det = calculate_determinant(matrix)\n",
    "inverse = calculate_inverse(matrix)\n",
    "print(f\"Determinant: {det:.4f}\")\n",
    "if inverse is not None:\n",
    "    print(f\"Inverse: \\n{inverse}\")\n",
    "else:\n",
    "    print(\"The matrix is singular and cannot be inverted.\")"
   ]
  },
  {
   "cell_type": "code",
   "execution_count": 11,
   "metadata": {},
   "outputs": [
    {
     "name": "stdout",
     "output_type": "stream",
     "text": [
      "Normal Distribution Characteristics:\n",
      "Mean (μ): Central point of the distribution.\n",
      "Standard Deviation (σ): Indicator of distribution spread.\n",
      "Symmetry: Distribution is symmetric about the mean.\n",
      "68-95-99.7 Rule: Describes the percentage of data within 1σ, 2σ, and 3σ of the mean.\n",
      "Probability of 14 in N(10, 3^2): 0.9088\n"
     ]
    }
   ],
   "source": [
    "# Normal Distribution Characteristics and Probabilities\n",
    "characteristics = describe_normal_distribution()\n",
    "print(\"Normal Distribution Characteristics:\")\n",
    "for key, value in characteristics.items():\n",
    "    print(f\"{key}: {value}\")\n",
    "\n",
    "mean = 10\n",
    "std_dev = 3\n",
    "value = 14\n",
    "probability = calculate_probability(mean, std_dev, value)\n",
    "print(f\"Probability of {value} in N({mean}, {std_dev}^2): {probability:.4f}\")"
   ]
  }
 ],
 "metadata": {
  "kernelspec": {
   "display_name": "Python 3",
   "language": "python",
   "name": "python3"
  },
  "language_info": {
   "codemirror_mode": {
    "name": "ipython",
    "version": 3
   },
   "file_extension": ".py",
   "mimetype": "text/x-python",
   "name": "python",
   "nbconvert_exporter": "python",
   "pygments_lexer": "ipython3",
   "version": "3.11.4"
  }
 },
 "nbformat": 4,
 "nbformat_minor": 2
}
